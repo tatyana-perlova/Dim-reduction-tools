{
 "cells": [
  {
   "cell_type": "markdown",
   "metadata": {
    "toc": true
   },
   "source": [
    "<h1>Table of Contents<span class=\"tocSkip\"></span></h1>\n",
    "<div class=\"toc\"><ul class=\"toc-item\"><li><span><a href=\"#Notebooks-settings-and-libraries\" data-toc-modified-id=\"Notebooks-settings-and-libraries-1\"><span class=\"toc-item-num\">1&nbsp;&nbsp;</span>Notebooks settings and libraries</a></span><ul class=\"toc-item\"><li><span><a href=\"#Notebook-magic\" data-toc-modified-id=\"Notebook-magic-1.1\"><span class=\"toc-item-num\">1.1&nbsp;&nbsp;</span>Notebook magic</a></span></li><li><span><a href=\"#Import-libraries\" data-toc-modified-id=\"Import-libraries-1.2\"><span class=\"toc-item-num\">1.2&nbsp;&nbsp;</span>Import libraries</a></span></li><li><span><a href=\"#Plotting-style\" data-toc-modified-id=\"Plotting-style-1.3\"><span class=\"toc-item-num\">1.3&nbsp;&nbsp;</span>Plotting style</a></span></li><li><span><a href=\"#Functions\" data-toc-modified-id=\"Functions-1.4\"><span class=\"toc-item-num\">1.4&nbsp;&nbsp;</span>Functions</a></span></li></ul></li><li><span><a href=\"#Poisson-vs-normal\" data-toc-modified-id=\"Poisson-vs-normal-2\"><span class=\"toc-item-num\">2&nbsp;&nbsp;</span>Poisson vs normal</a></span><ul class=\"toc-item\"><li><span><a href=\"#Simulate-an-experiment\" data-toc-modified-id=\"Simulate-an-experiment-2.1\"><span class=\"toc-item-num\">2.1&nbsp;&nbsp;</span>Simulate an experiment</a></span></li><li><span><a href=\"#Drawing-from-different-distributions\" data-toc-modified-id=\"Drawing-from-different-distributions-2.2\"><span class=\"toc-item-num\">2.2&nbsp;&nbsp;</span>Drawing from different distributions</a></span></li></ul></li></ul></div>"
   ]
  },
  {
   "cell_type": "markdown",
   "metadata": {},
   "source": [
    "# Notebooks settings and libraries"
   ]
  },
  {
   "cell_type": "markdown",
   "metadata": {},
   "source": [
    "## Notebook magic"
   ]
  },
  {
   "cell_type": "code",
   "execution_count": 1,
   "metadata": {
    "ExecuteTime": {
     "end_time": "2018-09-27T18:09:18.527218Z",
     "start_time": "2018-09-27T18:09:18.339215Z"
    }
   },
   "outputs": [],
   "source": [
    "%matplotlib inline"
   ]
  },
  {
   "cell_type": "markdown",
   "metadata": {},
   "source": [
    "## Import libraries"
   ]
  },
  {
   "cell_type": "code",
   "execution_count": 2,
   "metadata": {
    "ExecuteTime": {
     "end_time": "2018-09-27T18:09:19.887253Z",
     "start_time": "2018-09-27T18:09:18.886744Z"
    }
   },
   "outputs": [],
   "source": [
    "import pandas as pd\n",
    "import itertools\n",
    "import scipy\n",
    "import seaborn as sns\n",
    "import matplotlib.pyplot as plt\n",
    "import random\n",
    "import numpy as np\n",
    "import matplotlib.colors\n",
    "from matplotlib.colors import ListedColormap\n",
    "from statsmodels.formula.api import ols\n",
    "import pymc3 as pm\n",
    "from scipy import optimize\n",
    "import scipy.stats"
   ]
  },
  {
   "cell_type": "markdown",
   "metadata": {},
   "source": [
    "## Plotting style"
   ]
  },
  {
   "cell_type": "code",
   "execution_count": 3,
   "metadata": {
    "ExecuteTime": {
     "end_time": "2018-09-27T18:09:19.892609Z",
     "start_time": "2018-09-27T18:09:19.889234Z"
    }
   },
   "outputs": [],
   "source": [
    "plt.style.use('seaborn-white')\n",
    "sns.set_style('white')\n",
    "palette = sns.color_palette()"
   ]
  },
  {
   "cell_type": "markdown",
   "metadata": {},
   "source": [
    "## Functions"
   ]
  },
  {
   "cell_type": "code",
   "execution_count": 21,
   "metadata": {
    "ExecuteTime": {
     "end_time": "2018-09-27T18:16:17.134081Z",
     "start_time": "2018-09-27T18:16:17.130467Z"
    }
   },
   "outputs": [],
   "source": [
    "def plot_poisson(mu, **kwargs):\n",
    "    x = np.arange(scipy.stats.poisson.ppf(0.001, mu = mu),\n",
    "                    scipy.stats.poisson.ppf(0.999, mu = mu))\n",
    "    plt.plot(x, scipy.stats.poisson.pmf(x, mu = mu),\n",
    "         lw=5, alpha=0.6, **kwargs)"
   ]
  },
  {
   "cell_type": "code",
   "execution_count": 25,
   "metadata": {
    "ExecuteTime": {
     "end_time": "2018-09-27T18:16:51.945801Z",
     "start_time": "2018-09-27T18:16:51.941968Z"
    }
   },
   "outputs": [],
   "source": [
    "def plot_norm(mu, var, **kwargs):\n",
    "    x = np.linspace(scipy.stats.norm.ppf(0.001, loc = mu, scale = var**0.5),\n",
    "                    scipy.stats.norm.ppf(0.999, loc = mu, scale = var**0.5), 100)\n",
    "    plt.plot(x, scipy.stats.norm.pdf(x, loc = mu, scale = var**0.5),\n",
    "         lw=5, alpha=0.6, **kwargs)"
   ]
  },
  {
   "cell_type": "code",
   "execution_count": 56,
   "metadata": {
    "ExecuteTime": {
     "end_time": "2018-09-27T18:32:14.854942Z",
     "start_time": "2018-09-27T18:32:14.851309Z"
    }
   },
   "outputs": [],
   "source": [
    "def plot_student(N, loc, scale, **kwargs):\n",
    "#Plot Student distribution\n",
    "    x = np.linspace(scipy.stats.t.ppf(0.01, N-1, loc, scale),\n",
    "                    scipy.stats.t.ppf(0.99, N-1, loc, scale), 1000)\n",
    "    plt.plot(x, scipy.stats.t.pdf(x, N-1, loc, scale),\n",
    "     lw=5, alpha=0.6, **kwargs)"
   ]
  },
  {
   "cell_type": "markdown",
   "metadata": {},
   "source": [
    "Confidence interval"
   ]
  },
  {
   "cell_type": "code",
   "execution_count": null,
   "metadata": {},
   "outputs": [],
   "source": [
    "z = lambda alpha: scipy.stats.norm.ppf(1 - alpha/2)\n",
    "conf_int = lambda z, var, n: z*var**0.5/n**0.5"
   ]
  },
  {
   "cell_type": "markdown",
   "metadata": {},
   "source": [
    "# Poisson vs normal"
   ]
  },
  {
   "cell_type": "markdown",
   "metadata": {},
   "source": [
    "Parameters of the population distributions"
   ]
  },
  {
   "cell_type": "code",
   "execution_count": 197,
   "metadata": {
    "ExecuteTime": {
     "end_time": "2018-09-28T16:52:06.748949Z",
     "start_time": "2018-09-28T16:52:06.746612Z"
    }
   },
   "outputs": [],
   "source": [
    "mu = 30\n",
    "n_trials = 3"
   ]
  },
  {
   "cell_type": "markdown",
   "metadata": {},
   "source": [
    "Population vs sample distributions"
   ]
  },
  {
   "cell_type": "code",
   "execution_count": 198,
   "metadata": {
    "ExecuteTime": {
     "end_time": "2018-09-28T16:52:07.411040Z",
     "start_time": "2018-09-28T16:52:07.273815Z"
    }
   },
   "outputs": [
    {
     "data": {
      "text/plain": [
       "Text(0.5,0,'Number of events')"
      ]
     },
     "execution_count": 198,
     "metadata": {},
     "output_type": "execute_result"
    },
    {
     "data": {
      "image/png": "[encoded data removed]",
      "text/plain": [
       "<Figure size 432x288 with 1 Axes>"
      ]
     },
     "metadata": {},
     "output_type": "display_data"
    }
   ],
   "source": [
    "#Population distributions\n",
    "plot_poisson(mu, label = 'poisson', color = palette[0], linestyle = '', marker = 'o')\n",
    "#Sample distributions\n",
    "plot_norm(mu, mu, label = r'$N(\\mu, \\mu)$', color = palette[1], linestyle = '--')\n",
    "\n",
    "plt.legend(bbox_to_anchor = (1,1))\n",
    "plt.ylabel('Probability mass')\n",
    "plt.xlabel('Number of events')"
   ]
  },
  {
   "cell_type": "markdown",
   "metadata": {},
   "source": [
    "Generate samples of the populations"
   ]
  },
  {
   "cell_type": "code",
   "execution_count": 109,
   "metadata": {
    "ExecuteTime": {
     "end_time": "2018-09-27T19:15:12.118553Z",
     "start_time": "2018-09-27T19:15:12.115982Z"
    }
   },
   "outputs": [],
   "source": [
    "n_iterations = 1000"
   ]
  },
  {
   "cell_type": "code",
   "execution_count": 110,
   "metadata": {
    "ExecuteTime": {
     "end_time": "2018-09-27T19:15:12.531934Z",
     "start_time": "2018-09-27T19:15:12.510542Z"
    }
   },
   "outputs": [],
   "source": [
    "estimates = list(map(lambda x: np.mean(np.random.poisson(mu, n_trials)), np.arange(0, n_iterations))\n",
    "                )"
   ]
  },
  {
   "cell_type": "code",
   "execution_count": 112,
   "metadata": {
    "ExecuteTime": {
     "end_time": "2018-09-27T19:16:35.524512Z",
     "start_time": "2018-09-27T19:16:35.348704Z"
    }
   },
   "outputs": [
    {
     "data": {
      "text/plain": [
       "Text(0.5,0,'$<\\\\lambda>$')"
      ]
     },
     "execution_count": 112,
     "metadata": {},
     "output_type": "execute_result"
    },
    {
     "data": {
      "image/png": "[encoded data removed]",
      "text/plain": [
       "<Figure size 432x288 with 1 Axes>"
      ]
     },
     "metadata": {},
     "output_type": "display_data"
    }
   ],
   "source": [
    "_ = plt.hist(estimates, alpha = 0.5, density = 'normed', color = palette[4], label = r'sampling distribution of $\\lambda$')\n",
    "plot_norm(mu, mu/n_trials, label = r'$N(\\mu, \\mu/n)$', color = palette[2], linestyle = '--')\n",
    "plt.legend(bbox_to_anchor = (1,1))\n",
    "plt.ylabel('Probability density')\n",
    "plt.xlabel(r'$<\\lambda>$')"
   ]
  },
  {
   "cell_type": "markdown",
   "metadata": {},
   "source": [
    "$\\sigma<k> = \\sqrt{Var[k]/n}$\n",
    "\n",
    "$Var[k] = \\lambda$\n",
    "\n",
    "$<k> = \\lambda$"
   ]
  },
  {
   "cell_type": "markdown",
   "metadata": {},
   "source": [
    "Theoretical estimates"
   ]
  },
  {
   "cell_type": "code",
   "execution_count": 94,
   "metadata": {
    "ExecuteTime": {
     "end_time": "2018-09-27T19:02:38.564476Z",
     "start_time": "2018-09-27T19:02:38.561789Z"
    }
   },
   "outputs": [
    {
     "name": "stdout",
     "output_type": "stream",
     "text": [
      "Var[<k>] = 10.0 \n",
      "sigma[<k>] = 3.1622776601683795\n"
     ]
    }
   ],
   "source": [
    "print('Var[<k>] = {0} \\nsigma[<k>] = {1}'.format(mu/n_trials, (mu/n_trials)**0.5))"
   ]
  },
  {
   "cell_type": "markdown",
   "metadata": {},
   "source": [
    "Measured parameters"
   ]
  },
  {
   "cell_type": "code",
   "execution_count": 95,
   "metadata": {
    "ExecuteTime": {
     "end_time": "2018-09-27T19:02:39.688286Z",
     "start_time": "2018-09-27T19:02:39.685509Z"
    }
   },
   "outputs": [
    {
     "name": "stdout",
     "output_type": "stream",
     "text": [
      "Var[<k>] = 9.361955555555555 \n",
      "sigma[<k>] = 3.059731288129001\n"
     ]
    }
   ],
   "source": [
    "print('Var[<k>] = {0} \\nsigma[<k>] = {1}'.format(np.var(estimates), np.std(estimates)))"
   ]
  },
  {
   "cell_type": "markdown",
   "metadata": {},
   "source": [
    "## Simulate an experiment"
   ]
  },
  {
   "cell_type": "markdown",
   "metadata": {},
   "source": [
    "Draw one sample"
   ]
  },
  {
   "cell_type": "code",
   "execution_count": 101,
   "metadata": {
    "ExecuteTime": {
     "end_time": "2018-09-27T19:11:10.182925Z",
     "start_time": "2018-09-27T19:11:10.180111Z"
    }
   },
   "outputs": [],
   "source": [
    "sample = np.random.poisson(mu, n_trials)"
   ]
  },
  {
   "cell_type": "code",
   "execution_count": 106,
   "metadata": {
    "ExecuteTime": {
     "end_time": "2018-09-27T19:13:01.512410Z",
     "start_time": "2018-09-27T19:13:01.508395Z"
    }
   },
   "outputs": [
    {
     "name": "stdout",
     "output_type": "stream",
     "text": [
      "<k> = 27.67 +- 5.95\n"
     ]
    }
   ],
   "source": [
    "print('<k> = {0} +- {1}'.format(np.mean(sample).round(2),\n",
    "                               conf_int(z(0.05), np.mean(sample), n_trials).round(2))\n",
    "     )"
   ]
  },
  {
   "cell_type": "code",
   "execution_count": 100,
   "metadata": {
    "ExecuteTime": {
     "end_time": "2018-09-27T19:09:52.068941Z",
     "start_time": "2018-09-27T19:09:52.064964Z"
    }
   },
   "outputs": [
    {
     "data": {
      "text/plain": [
       "6.1979503230456165"
      ]
     },
     "execution_count": 100,
     "metadata": {},
     "output_type": "execute_result"
    }
   ],
   "source": [
    "conf_int(z(0.05), mu, n_trials)"
   ]
  },
  {
   "cell_type": "markdown",
   "metadata": {},
   "source": [
    "## Drawing from different distributions "
   ]
  },
  {
   "cell_type": "code",
   "execution_count": 117,
   "metadata": {
    "ExecuteTime": {
     "end_time": "2018-09-27T19:20:24.707929Z",
     "start_time": "2018-09-27T19:20:24.705120Z"
    }
   },
   "outputs": [],
   "source": [
    "def get_mean_var(sample):\n",
    "    return([np.mean(sample), np.var(sample)])"
   ]
  },
  {
   "cell_type": "code",
   "execution_count": 124,
   "metadata": {
    "ExecuteTime": {
     "end_time": "2018-09-27T19:20:57.124399Z",
     "start_time": "2018-09-27T19:20:57.107406Z"
    }
   },
   "outputs": [],
   "source": [
    "estimates = np.array(list(map(lambda mu: get_mean_var(np.random.poisson(mu, n_trials)), np.arange(30, 300))\n",
    "                ))"
   ]
  },
  {
   "cell_type": "code",
   "execution_count": 168,
   "metadata": {
    "ExecuteTime": {
     "end_time": "2018-09-27T19:39:22.235065Z",
     "start_time": "2018-09-27T19:39:22.011526Z"
    }
   },
   "outputs": [
    {
     "data": {
      "text/plain": [
       "<matplotlib.legend.Legend at 0x7f495f6e8780>"
      ]
     },
     "execution_count": 168,
     "metadata": {},
     "output_type": "execute_result"
    },
    {
     "data": {
      "image/png": "[encoded data removed]",
      "text/plain": [
       "<Figure size 432x288 with 1 Axes>"
      ]
     },
     "metadata": {},
     "output_type": "display_data"
    }
   ],
   "source": [
    "sns.regplot(estimates[:, 0], estimates[:, 1])\n",
    "plt.xlabel('Mean')\n",
    "plt.ylabel('Variance')\n",
    "x = np.arange(30, 300)\n",
    "plt.plot(x, x, 'r--', label = 'theoretical curve: \\n var = mean')\n",
    "plt.legend(bbox_to_anchor = (1,1))"
   ]
  },
  {
   "cell_type": "code",
   "execution_count": null,
   "metadata": {},
   "outputs": [],
   "source": []
  }
 ],
 "metadata": {
  "kernelspec": {
   "display_name": "Python 3",
   "language": "python",
   "name": "python3"
  },
  "language_info": {
   "codemirror_mode": {
    "name": "ipython",
    "version": 3
   },
   "file_extension": ".py",
   "mimetype": "text/x-python",
   "name": "python",
   "nbconvert_exporter": "python",
   "pygments_lexer": "ipython3",
   "version": "3.6.6"
  },
  "toc": {
   "base_numbering": 1,
   "nav_menu": {},
   "number_sections": true,
   "sideBar": true,
   "skip_h1_title": false,
   "title_cell": "Table of Contents",
   "title_sidebar": "Contents",
   "toc_cell": true,
   "toc_position": {},
   "toc_section_display": true,
   "toc_window_display": true
  }
 },
 "nbformat": 4,
 "nbformat_minor": 2
}
